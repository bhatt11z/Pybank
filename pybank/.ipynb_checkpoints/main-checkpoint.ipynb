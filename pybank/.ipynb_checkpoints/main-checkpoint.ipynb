{
 "cells": [
  {
   "cell_type": "code",
   "execution_count": 91,
   "metadata": {},
   "outputs": [],
   "source": [
    "import csv\n",
    "from pathlib import Path\n",
    "import statistics"
   ]
  },
  {
   "cell_type": "code",
   "execution_count": 92,
   "metadata": {},
   "outputs": [],
   "source": [
    "budget_data = Path('budget_data.csv')"
   ]
  },
  {
   "cell_type": "code",
   "execution_count": 93,
   "metadata": {},
   "outputs": [],
   "source": [
    "total_months = 0\n",
    "greatest_increase = 0\n",
    "greatest_decrease = 0\n",
    "monthly_change = []\n",
    "change = []\n",
    "total_revenue = 0\n",
    "great_month = ''\n",
    "worst_month = ''\n"
   ]
  },
  {
   "cell_type": "code",
   "execution_count": 94,
   "metadata": {},
   "outputs": [
    {
     "name": "stdout",
     "output_type": "stream",
     "text": [
      "Total months: 86\n",
      "Total profit: $ 38382578\n",
      "Greatest decrease : $ -1196225 Sep-2013\n",
      "Greatest increase : $ 1170593 Feb-2012\n",
      "Average change : $ -2315.12\n"
     ]
    }
   ],
   "source": [
    "with open (budget_data, 'r') as csvfile:\n",
    "    csvreader = csv.reader(csvfile, delimiter = ',')\n",
    "    csvheaders = next(csvreader)\n",
    "    for row in csvreader:\n",
    "        total_months += 1\n",
    "        total_revenue += int(row[1])\n",
    "        if int(row[1]) > greatest_increase:\n",
    "            great_month = (row [0])\n",
    "            greatest_increase = int(row[1])\n",
    "        elif int(row[1]) < greatest_decrease:\n",
    "            worst_month = (row[0])\n",
    "            greatest_decrease = int(row[1])\n",
    "        change.append(int(row[1]))\n",
    "        \n",
    "for i in range(len(change)- 1):\n",
    "    changes = (change[i+1] - change[i])\n",
    "    monthly_change.append(changes)   \n",
    "\n",
    "average_change = round(statistics.mean(monthly_change),2)\n",
    "\n",
    "print(f\"Total months: {total_months}\")\n",
    "print(f\"Total profit: $ {total_revenue}\")\n",
    "print(f\"Greatest decrease : $ {greatest_decrease}\" + \" \" + worst_month)\n",
    "print(f\"Greatest increase : $ {greatest_increase}\" + \" \" + great_month)\n",
    "print(f\"Average change : $ {average_change}\")\n",
    "\n",
    "        \n",
    "    \n",
    "        \n",
    "   \n",
    "\n",
    "        \n",
    "        "
   ]
  },
  {
   "cell_type": "code",
   "execution_count": null,
   "metadata": {},
   "outputs": [],
   "source": []
  },
  {
   "cell_type": "code",
   "execution_count": null,
   "metadata": {},
   "outputs": [],
   "source": []
  }
 ],
 "metadata": {
  "kernelspec": {
   "display_name": "Python 3",
   "language": "python",
   "name": "python3"
  },
  "language_info": {
   "codemirror_mode": {
    "name": "ipython",
    "version": 3
   },
   "file_extension": ".py",
   "mimetype": "text/x-python",
   "name": "python",
   "nbconvert_exporter": "python",
   "pygments_lexer": "ipython3",
   "version": "3.8.5"
  }
 },
 "nbformat": 4,
 "nbformat_minor": 4
}
